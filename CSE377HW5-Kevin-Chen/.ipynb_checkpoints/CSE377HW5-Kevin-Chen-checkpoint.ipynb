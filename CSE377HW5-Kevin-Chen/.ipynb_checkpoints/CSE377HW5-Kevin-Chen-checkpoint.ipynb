{
 "cells": [
  {
   "cell_type": "markdown",
   "id": "dbc893ad",
   "metadata": {},
   "source": [
    "## CSE 377 - Homework 05\n",
    "\n",
    "### Kevin Chen - CHEN146 - 113448049"
   ]
  },
  {
   "cell_type": "code",
   "execution_count": 2,
   "id": "64650749",
   "metadata": {},
   "outputs": [],
   "source": [
    "# Importing the libraries to use in this homework assignment\n",
    "\n",
    "import numpy as np\n",
    "import PIL as pil\n",
    "import matplotlib.pyplot as plt"
   ]
  },
  {
   "cell_type": "code",
   "execution_count": 3,
   "id": "c737fb14",
   "metadata": {},
   "outputs": [],
   "source": [
    "# Question 01 - Load the input X-ray image 'WholeBoneScan.png' as f(x,y).\n",
    "# Show the input image.\n",
    "\n",
    "input_img = pil.Image.open(\"WholeBoneScan.png\")\n",
    "\n",
    "# loading the input image as numpy array into f(x,y), aka f_xy.\n",
    "\n",
    "f_xy = np.array(input_img)"
   ]
  },
  {
   "cell_type": "code",
   "execution_count": null,
   "id": "a9e0cb48",
   "metadata": {},
   "outputs": [],
   "source": [
    "# Showing the input image in grayscale.\n",
    "\n",
    "plt.title(\"The Input Image - WholeB\")"
   ]
  }
 ],
 "metadata": {
  "kernelspec": {
   "display_name": "Python 3 (ipykernel)",
   "language": "python",
   "name": "python3"
  },
  "language_info": {
   "codemirror_mode": {
    "name": "ipython",
    "version": 3
   },
   "file_extension": ".py",
   "mimetype": "text/x-python",
   "name": "python",
   "nbconvert_exporter": "python",
   "pygments_lexer": "ipython3",
   "version": "3.9.12"
  }
 },
 "nbformat": 4,
 "nbformat_minor": 5
}
